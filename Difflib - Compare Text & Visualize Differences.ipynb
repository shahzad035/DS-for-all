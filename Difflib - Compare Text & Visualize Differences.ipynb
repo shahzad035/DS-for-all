{
 "cells": [
  {
   "cell_type": "markdown",
   "metadata": {},
   "source": [
    "**difflib** — Helpers for computing deltas\n",
    "- This module provides classes and functions for comparing sequences. It can be used for example, for comparing files, and can produce difference information in various formats, including HTML and context and unified diffs. For comparing directories and files."
   ]
  },
  {
   "cell_type": "code",
   "execution_count": 1,
   "metadata": {},
   "outputs": [],
   "source": [
    "import difflib"
   ]
  },
  {
   "cell_type": "code",
   "execution_count": 2,
   "metadata": {},
   "outputs": [],
   "source": [
    "text_A=\"\"\"\n",
    "1. only text_A has this line\n",
    "3. Both has this line\n",
    "4. Similar version ! :A work in the middle or in the end :A \n",
    "\"\"\"\n",
    "\n",
    "text_B=\"\"\"\n",
    "2. can be found just in text_B\n",
    "3. Both has this line\n",
    "4. Similar ! :B work in the middle or in the end as well :B \n",
    "\"\"\""
   ]
  },
  {
   "cell_type": "code",
   "execution_count": 3,
   "metadata": {},
   "outputs": [
    {
     "name": "stdout",
     "output_type": "stream",
     "text": [
      "  \n",
      "- 1. only text_A has this line\n",
      "+ 2. can be found just in text_B\n",
      "  3. Both has this line\n",
      "- 4. Similar version ! :A work in the middle or in the end :A \n",
      "?            --------   ^                                   ^\n",
      "\n",
      "+ 4. Similar ! :B work in the middle or in the end as well :B \n",
      "?               ^                                  ++++++++ ^\n",
      "\n"
     ]
    }
   ],
   "source": [
    "strDiff = difflib.Differ().compare(text_A.splitlines(), text_B.splitlines())\n",
    "print('\\n'.join(strDiff))"
   ]
  },
  {
   "cell_type": "markdown",
   "metadata": {},
   "source": [
    "- '- ' line unique to sequence 1\n",
    "- '+' line unique to sequence 2\n",
    "- '  ' line common to both sequences\n",
    "- '?' line not present in either input sequence"
   ]
  },
  {
   "cell_type": "code",
   "execution_count": 4,
   "metadata": {},
   "outputs": [],
   "source": [
    "from difflib import HtmlDiff"
   ]
  },
  {
   "cell_type": "code",
   "execution_count": 5,
   "metadata": {},
   "outputs": [],
   "source": [
    "strHtmlDiff = HtmlDiff().make_file(text_A.splitlines(), text_B.splitlines())"
   ]
  },
  {
   "cell_type": "code",
   "execution_count": 6,
   "metadata": {},
   "outputs": [],
   "source": [
    "with open('diff.html' , 'w') as f:\n",
    "    f.write(strHtmlDiff)"
   ]
  }
 ],
 "metadata": {
  "kernelspec": {
   "display_name": "Python 3",
   "language": "python",
   "name": "python3"
  },
  "language_info": {
   "codemirror_mode": {
    "name": "ipython",
    "version": 3
   },
   "file_extension": ".py",
   "mimetype": "text/x-python",
   "name": "python",
   "nbconvert_exporter": "python",
   "pygments_lexer": "ipython3",
   "version": "3.7.0"
  }
 },
 "nbformat": 4,
 "nbformat_minor": 2
}
